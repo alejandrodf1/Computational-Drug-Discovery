{
 "cells": [
  {
   "attachments": {},
   "cell_type": "markdown",
   "metadata": {},
   "source": [
    "## Comparing regressors\n",
    "In this part, we will be comparing several ML algorithms for build regression models of acetylcholinesterase inhibitors."
   ]
  },
  {
   "cell_type": "code",
   "execution_count": 1,
   "metadata": {},
   "outputs": [],
   "source": [
    "#!pip install lazypredict"
   ]
  },
  {
   "cell_type": "code",
   "execution_count": 2,
   "metadata": {},
   "outputs": [],
   "source": [
    "import pandas as pd\n",
    "import seaborn as sns\n",
    "from sklearn.model_selection import train_test_split\n",
    "import lazypredict\n",
    "from lazypredict.Supervised import LazyRegressor"
   ]
  },
  {
   "attachments": {},
   "cell_type": "markdown",
   "metadata": {},
   "source": [
    "#### Load and pre-processed of data"
   ]
  },
  {
   "cell_type": "code",
   "execution_count": 3,
   "metadata": {},
   "outputs": [],
   "source": [
    "df = pd.read_csv('/home/alejandrodf1/Documents/computational_drug_discovery_project/data/processed/acetylcholinesterase_06_bioactivity_data_3class_pIC50_pubchem_fp.csv')\n",
    "\n",
    "X = df.drop('pIC50', axis=1) #getting X inputs\n",
    "Y= df.pIC50                  #getting Y vector"
   ]
  },
  {
   "cell_type": "code",
   "execution_count": 4,
   "metadata": {},
   "outputs": [
    {
     "name": "stdout",
     "output_type": "stream",
     "text": [
      "Before feature removing: (5798, 881)\n",
      "After feature removing: (5798, 144)\n"
     ]
    }
   ],
   "source": [
    "print(f'Before feature removing: {X.shape}')  #dimensions before feature removing\n",
    "\n",
    "#remove low variance features\n",
    "from sklearn.feature_selection import VarianceThreshold\n",
    "selection = VarianceThreshold(threshold=(0.8 * (1-0.8)))\n",
    "\n",
    "X = selection.fit_transform(X)\n",
    "print(f'After feature removing: {X.shape}') #dimensions after feature removing\n"
   ]
  },
  {
   "attachments": {},
   "cell_type": "markdown",
   "metadata": {},
   "source": [
    "#### Splitting data (80/20)"
   ]
  },
  {
   "cell_type": "code",
   "execution_count": 5,
   "metadata": {},
   "outputs": [],
   "source": [
    "X_train,X_test,Y_train,Y_test = train_test_split(X,Y,test_size=0.2, random_state=42)"
   ]
  },
  {
   "attachments": {},
   "cell_type": "markdown",
   "metadata": {},
   "source": [
    "## Comparing ML algorithm "
   ]
  },
  {
   "cell_type": "code",
   "execution_count": 6,
   "metadata": {},
   "outputs": [
    {
     "name": "stderr",
     "output_type": "stream",
     "text": [
      " 36%|███▌      | 15/42 [01:25<02:44,  6.10s/it]"
     ]
    }
   ],
   "source": [
    "# defines and building the lazy classifier\n",
    "clf = LazyRegressor(verbose=0, ignore_warnings=True, custom_metric=None)\n",
    "models_train,prediction_trains = clf.fit(X_train,X_train,Y_train,Y_train)\n",
    "models_test,prediction_test = clf.fit(X_test,X_test,Y_test,Y_test)\n"
   ]
  },
  {
   "cell_type": "code",
   "execution_count": null,
   "metadata": {},
   "outputs": [],
   "source": [
    "#Performance table of training set\n",
    "prediction_trains\n"
   ]
  },
  {
   "cell_type": "code",
   "execution_count": null,
   "metadata": {},
   "outputs": [],
   "source": [
    "#Performance table of testing set\n",
    "prediction_test\n"
   ]
  },
  {
   "attachments": {},
   "cell_type": "markdown",
   "metadata": {},
   "source": [
    "#### Datavisualization of models performance:\n",
    "- Bar plot of R-Squared \n",
    "- Bar plot of RMSE\n",
    "- Calculation time"
   ]
  },
  {
   "cell_type": "code",
   "execution_count": null,
   "metadata": {},
   "outputs": [],
   "source": [
    "#bar plot of R squared per model\n",
    "import matplotlib.pyplot as plt\n",
    "import seaborn as sns\n",
    "\n",
    "#train['R-Squared'] = [0 if i< 0 else if i in train.iloc[:,0] ]\n",
    "\n",
    "plt.figure(figsize=(5,10))\n",
    "sns.set_theme(style='whitegrid')\n",
    "ax = sns.barplot(y=prediction_trains.index, x = 'R-squared', data=prediction_trains)\n",
    "ax.set(xlim=(0,1))"
   ]
  },
  {
   "cell_type": "code",
   "execution_count": null,
   "metadata": {},
   "outputs": [],
   "source": [
    "#rmse bar plot\n",
    "plt.figure(figsize=(5,10))\n",
    "sns.set_theme(style='whitegrid')\n",
    "ax = sns.barplot(y=prediction_trains.index, x = 'RMSE', data=prediction_trains)\n",
    "ax.set(xlim=(0,1))"
   ]
  },
  {
   "cell_type": "code",
   "execution_count": null,
   "metadata": {},
   "outputs": [],
   "source": [
    "# time taken bar plot\n",
    "plt.figure(figsize=(5,10))\n",
    "sns.set_theme(style='whitegrid')\n",
    "ax = sns.barplot(y=prediction_trains.index, x = 'Time Taken', data=prediction_trains)\n",
    "ax.set(xlim=(0,1))"
   ]
  }
 ],
 "metadata": {
  "kernelspec": {
   "display_name": "computational_drug_discovery_project",
   "language": "python",
   "name": "python3"
  },
  "language_info": {
   "codemirror_mode": {
    "name": "ipython",
    "version": 3
   },
   "file_extension": ".py",
   "mimetype": "text/x-python",
   "name": "python",
   "nbconvert_exporter": "python",
   "pygments_lexer": "ipython3",
   "version": "3.7.15"
  },
  "orig_nbformat": 4,
  "vscode": {
   "interpreter": {
    "hash": "460128273d14c51546cee31398da1f3faccebe1154d6ecf59e65043f64c2bc26"
   }
  }
 },
 "nbformat": 4,
 "nbformat_minor": 2
}
