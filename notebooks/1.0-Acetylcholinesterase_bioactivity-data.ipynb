{
 "cells": [
  {
   "attachments": {},
   "cell_type": "markdown",
   "metadata": {},
   "source": [
    "# Acetylcholinesterase Bioactivity data\n",
    "This part is about retriving the data from cheMBL database the data, then doing a pre-processing of the data.\n",
    "\n",
    "## cheMBL Database\n",
    "The cheMBL Database is a database that contains the curated bioactivity data of about 2 million of compounds "
   ]
  },
  {
   "cell_type": "code",
   "execution_count": null,
   "metadata": {},
   "outputs": [],
   "source": []
  }
 ],
 "metadata": {
  "kernelspec": {
   "display_name": "Python 3.7.15 ('computational_drug_discovery_project')",
   "language": "python",
   "name": "python3"
  },
  "language_info": {
   "name": "python",
   "version": "3.7.15"
  },
  "orig_nbformat": 4,
  "vscode": {
   "interpreter": {
    "hash": "460128273d14c51546cee31398da1f3faccebe1154d6ecf59e65043f64c2bc26"
   }
  }
 },
 "nbformat": 4,
 "nbformat_minor": 2
}
